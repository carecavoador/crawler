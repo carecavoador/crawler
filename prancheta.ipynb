{
 "cells": [
  {
   "cell_type": "code",
   "execution_count": null,
   "metadata": {},
   "outputs": [],
   "source": [
    "import os\n",
    "from pathlib import Path\n",
    "from PyPDF2 import PdfFileReader\n",
    "\n",
    "pasta = Path(r\"E:\\Desktop\\Estudo Perfil\")\n",
    "pdfs = [Path(pasta, pdf) for pdf in os.listdir(pasta)]\n",
    "\n",
    "for pdf in pdfs:\n",
    "    with open(pdf, \"rb\") as f:\n",
    "        reader = PdfFileReader(f)\n",
    "        texto = reader.pages[0].extract_text().split(\"\\n\")\n",
    "        print(texto[14])"
   ]
  },
  {
   "cell_type": "code",
   "execution_count": 25,
   "metadata": {},
   "outputs": [
    {
     "name": "stdout",
     "output_type": "stream",
     "text": [
      "('548744', '4')\n",
      "('488257', '4')\n"
     ]
    }
   ],
   "source": [
    "from osnumber import guess_os_number\n",
    "import re\n",
    "\n",
    "p1 = \"(\\d{4,}).*[vV](\\d+)\"\n",
    "p2 = \"(\\d{4,}).\\d+.[vV](\\d+)\"\n",
    "\n",
    "n1 = \"548744 V4 Original.jpg\"\n",
    "n2 = \"OS_488257_4_V4.pdf\"\n",
    "search1 = re.search(p1, n1)\n",
    "search2 = re.search(p1, n2)\n",
    "print(search1.groups())\n",
    "print(search2.groups())"
   ]
  },
  {
   "cell_type": "code",
   "execution_count": null,
   "metadata": {},
   "outputs": [],
   "source": []
  }
 ],
 "metadata": {
  "kernelspec": {
   "display_name": "Python 3.9.6 64-bit",
   "language": "python",
   "name": "python3"
  },
  "language_info": {
   "codemirror_mode": {
    "name": "ipython",
    "version": 3
   },
   "file_extension": ".py",
   "mimetype": "text/x-python",
   "name": "python",
   "nbconvert_exporter": "python",
   "pygments_lexer": "ipython3",
   "version": "3.9.6"
  },
  "orig_nbformat": 4,
  "vscode": {
   "interpreter": {
    "hash": "0442cd0bdd6237b21233d2e8ac4e36fd6e45ee85210cb3ecf2874ddd16aeed37"
   }
  }
 },
 "nbformat": 4,
 "nbformat_minor": 2
}
