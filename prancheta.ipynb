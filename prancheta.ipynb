{
 "cells": [
  {
   "cell_type": "code",
   "execution_count": 20,
   "metadata": {},
   "outputs": [
    {
     "data": {
      "text/plain": [
       "[WindowsPath('C:/Projetos/Python/crawler/Arquivos/A3.pdf'),\n",
       " WindowsPath('C:/Projetos/Python/crawler/Arquivos/A3_cortado.pdf'),\n",
       " WindowsPath('C:/Projetos/Python/crawler/Arquivos/A4.pdf'),\n",
       " WindowsPath('C:/Projetos/Python/crawler/Arquivos/A4_cortado.pdf'),\n",
       " WindowsPath('C:/Projetos/Python/crawler/Arquivos/OS_189119_5_V3.pdf'),\n",
       " WindowsPath('C:/Projetos/Python/crawler/Arquivos/OS_561196_2_V2.pdf'),\n",
       " WindowsPath('C:/Projetos/Python/crawler/Arquivos/OS_643661_7_V2.pdf'),\n",
       " WindowsPath('C:/Projetos/Python/crawler/Arquivos/OS_718577_1_V1.pdf'),\n",
       " WindowsPath('C:/Projetos/Python/crawler/Arquivos/Print Digital'),\n",
       " WindowsPath('C:/Projetos/Python/crawler/Arquivos/Print Layout')]"
      ]
     },
     "execution_count": 20,
     "metadata": {},
     "output_type": "execute_result"
    }
   ],
   "source": [
    "import crawler\n",
    "from pathlib import Path\n",
    "from osnumber import OSNumber, guess_os_number\n",
    "from jobs import Job\n",
    "\n",
    "ROOT_DIR = Path(r\"C:\\Projetos\\Python\\crawler\\Arquivos\")\n",
    "teste = [Path(ROOT_DIR, f) for f in os.listdir(ROOT_DIR)]\n",
    "teste"
   ]
  },
  {
   "cell_type": "code",
   "execution_count": 22,
   "metadata": {},
   "outputs": [
    {
     "data": {
      "text/plain": [
       "[OS 189119 P3 V5(plates=False, layout=False, proof=True),\n",
       " OS 561196 P2 V2(plates=True, layout=True, proof=False),\n",
       " OS 643661 P2 V7(plates=True, layout=True, proof=False),\n",
       " OS 718577 P1 V1(plates=True, layout=True, proof=False)]"
      ]
     },
     "execution_count": 22,
     "metadata": {},
     "output_type": "execute_result"
    }
   ],
   "source": [
    "jons = [Job(item, guess_os_number(item.name)) for item in teste if guess_os_number(item.name)]\n",
    "jons"
   ]
  },
  {
   "cell_type": "code",
   "execution_count": null,
   "metadata": {},
   "outputs": [],
   "source": []
  }
 ],
 "metadata": {
  "kernelspec": {
   "display_name": "Python 3.10.5 ('venv': venv)",
   "language": "python",
   "name": "python3"
  },
  "language_info": {
   "codemirror_mode": {
    "name": "ipython",
    "version": 3
   },
   "file_extension": ".py",
   "mimetype": "text/x-python",
   "name": "python",
   "nbconvert_exporter": "python",
   "pygments_lexer": "ipython3",
   "version": "3.10.5"
  },
  "orig_nbformat": 4,
  "vscode": {
   "interpreter": {
    "hash": "e1616f986a7b931e652f4fadcc9f29627206be7fb44b3b5b0951b3666663afaa"
   }
  }
 },
 "nbformat": 4,
 "nbformat_minor": 2
}
