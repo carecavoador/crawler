{
 "cells": [
  {
   "cell_type": "code",
   "execution_count": 21,
   "metadata": {},
   "outputs": [
    {
     "name": "stdout",
     "output_type": "stream",
     "text": [
      "3071_FullPack_IE_FlexoTech_Gearless_LUX_WSI_PE_EXTFechamento:\n",
      "4093_MegaEmbalagens_GE_Comexi_Maq2006_KodakNX_Adv01_PE_BRANCO_EXT_110MY_SIEGWERKFechamento:\n",
      "4667_Fullpack_IE_FlexoTech_Maq202_ITP_WSI_DL1_PE_PIG_EXT_49lpc_DotlessFechamento:\n",
      "5297_FenoPlast_GE_FlexoPower2_Dupont_EPR2_FTD_WSI_BOPP_TRANSP_INT_70lpc_DotlessFechamento:\n",
      "5297_FenoPlast_GE_FlexoPower2_Dupont_EPR2_FTD_WSI_BOPP_TRANSP_INT_70lpc_DotlessFechamento:\n",
      "5297_FenoPlast_GE_FlexoPower2_Dupont_EPR2_FTD_WSI_BOPP_TRANSP_INT_70lpc_DotlessFechamento:\n",
      "5297_FenoPlast_GE_FlexoPower2_Dupont_EPR2_FTD_WSI_BOPP_TRANSP_INT_70lpc_DotlessFechamento:\n",
      "5297_FenoPlast_GE_FlexoPower2_Dupont_EPR2_FTD_WSI_BOPP_TRANSP_INT_70lpc_DotlessFechamento:\n",
      "5297_FenoPlast_GE_FlexoPower2_Dupont_EPR2_FTD_WSI_BOPP_TRANSP_INT_70lpc_DotlessFechamento:\n",
      "1885_ArteSolucoes_ModularKromia_KodakNX_1,14_BOPP_Fosco_KXS_BNU_60LPCFechamento:\n",
      "3948_Videplast_IE_FlexoTech_Maq140_EPR2_FTD_MC16P_PE_EXT_Com_Branco_Tinta_SunChemicalFechamento:\n",
      "4688_Videplast_GE_WindMoller_Maq146_KodakNX_Adv01_PEAD-Fosco_C-BrancoFechamento:\n",
      "3742_Flexoprint_Marialva_IE_NX_Std_TintaNormal_PET_BRANCO_EXTFechamento:\n",
      "4646_Catuai_IE_GallusECS340_Gallus02_NX_Std_papel_CONE_verniz_BRILHO_baixa_MIGRACAO_EXTFechamento:\n",
      "2595_Catuai_C3_Gallus2_kodakNX_BOPP-PEROLA_EXTFechamento:\n",
      "3017_Alpha_Color_C3_P7-1_Kodak_NX_SLEEVEFechamento:\n",
      "4653_Catuai_IE_Gallus_LabelMaster_NX_Std_pvc_TRANSP_INTFechamento:\n",
      "4653_Catuai_IE_Gallus_LabelMaster_NX_Std_pvc_TRANSP_INTFechamento:\n",
      "4653_Catuai_IE_Gallus_LabelMaster_NX_Std_pvc_TRANSP_INTFechamento:\n",
      "4653_Catuai_IE_Gallus_LabelMaster_NX_Std_pvc_TRANSP_INTFechamento:\n",
      "4653_Catuai_IE_Gallus_LabelMaster_NX_Std_pvc_TRANSP_INTFechamento:\n",
      "4475_BrFilms_IE_KR_NX_Std_pvc_TRANSP_INT_Dotless_DL6Fechamento:\n",
      "3820_Lamipack_IE_ComexiF3_Dupont_EPR2_FTD_WSI_PET_INT_Dotless_80LpcFechamento:\n",
      "5126_PowerLabel_IE_Rotatek_NX_Std_bopp_METAL_RS_EXTFechamento:\n",
      "5152_Lamipack_IE_Comexi-F3_Flint_NEF_FTD_WSI_PET_INT_54Lpc_NORMAL_DotLessFechamento:\n",
      "4529_Pamplastic_IE_Comexi F2 MB_ITP_DL1_PET Transp_INT_69lpc_cBco_INX_DotLessFechamento:\n",
      "3379_TotalFlex_IE_GE_FPlus_NX_ADV01_BOPP_INTFechamento:\n",
      "ISO_Coated_v2_39L_Clicheria_BlumenauFechamento:\n",
      "ISO_Coated_v2_39L_Clicheria_BlumenauFechamento:\n",
      "4099_Pamplastic_IE_Comexi_FTD_WSI_ITP_PET_EXT_LAMINADA_BOPP_MATTE_GAMA_DotlessFechamento:\n",
      "ISO_Coated_v2_39L_Clicheria_BlumenauFechamento:\n",
      "ISO_Coated_v2_39L_Clicheria_BlumenauFechamento:\n",
      "SemFechamento:\n",
      "4077_Aleplast_IE_FlexoPower_ITP_FTD_WSI_PE_INT_Dotless_DL1Fechamento:\n",
      "ISO_Coated_v2_39L_Clicheria_BlumenauFechamento:\n",
      "5415_Dicoplast_IE_201_FTD_ITP_WSI_DL1_PE_TRANSP_HUBBER_EXT_DotlessFechamento:\n",
      "4928_FlexoPrint_PR_IE_M13_NX_Std_NORMAL_PRIMER_couche_ecoPRINT_EXT_70L/cmFechamento:\n",
      "4928_FlexoPrint_PR_IE_M13_NX_Std_NORMAL_PRIMER_couche_ecoPRINT_EXT_70L/cmFechamento:\n",
      "4928_FlexoPrint_PR_IE_M13_NX_Std_NORMAL_PRIMER_couche_ecoPRINT_EXT_70L/cmFechamento:\n",
      "ISO_Coated_v2_39L_Clicheria_BlumenauFechamento:\n",
      "3743_Flexoprint_Marialva_IE_NX_Std_TintaNormal_PET_TRANSP_INTFechamento:\n",
      "Blumenau_Heaford_DPI_BNU_PE_EXT_40Lpc_V4Fechamento:\n",
      "2384_Itapevi_Omet_KodakNX_1,14_VAL_PVC_PET_60lpcFechamento:\n",
      "3743_Flexoprint_Marialva_IE_NX_Std_TintaNormal_PET_TRANSP_INTFechamento:\n",
      "ISO_Coated_v2_39L_Clicheria_BlumenauFechamento:\n",
      "SemFechamento:\n",
      "SemFechamento:\n",
      "4498_ElloPrint_IE_Gallus_NX_Std_FLM_PVC_TRANSP_INTFechamento:\n",
      "4756_Mix_IE_Superprint350_NX_Std_papel_COUCHE_VERNIZ_BRILHO_EXTFechamento:\n",
      "SemFechamento:\n",
      "Documentos AdministrativosMarialva EXPRESSO SAO13/06/22CLICHERIA - 14:001\n",
      "2419_Blumenau_Tinta-Flint_C3_Heaford_Kodak_PE_EXTFechamento:\n",
      "ISO_Coated_v2_39L_Clicheria_BlumenauFechamento:\n"
     ]
    }
   ],
   "source": [
    "import os\n",
    "from pathlib import Path\n",
    "from PyPDF2 import PdfFileReader\n",
    "\n",
    "pasta = Path(r\"E:\\Desktop\\Estudo Perfil\")\n",
    "pdfs = [Path(pasta, pdf) for pdf in os.listdir(pasta)]\n",
    "\n",
    "for pdf in pdfs:\n",
    "    with open(pdf, \"rb\") as f:\n",
    "        reader = PdfFileReader(f)\n",
    "        texto = reader.pages[0].extract_text().split(\"\\n\")\n",
    "        print(texto[14])"
   ]
  }
 ],
 "metadata": {
  "kernelspec": {
   "display_name": "Python 3.9.6 64-bit",
   "language": "python",
   "name": "python3"
  },
  "language_info": {
   "codemirror_mode": {
    "name": "ipython",
    "version": 3
   },
   "file_extension": ".py",
   "mimetype": "text/x-python",
   "name": "python",
   "nbconvert_exporter": "python",
   "pygments_lexer": "ipython3",
   "version": "3.9.6"
  },
  "orig_nbformat": 4,
  "vscode": {
   "interpreter": {
    "hash": "0442cd0bdd6237b21233d2e8ac4e36fd6e45ee85210cb3ecf2874ddd16aeed37"
   }
  }
 },
 "nbformat": 4,
 "nbformat_minor": 2
}
