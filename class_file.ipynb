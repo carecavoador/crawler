{
 "cells": [
  {
   "cell_type": "code",
   "execution_count": 1,
   "metadata": {},
   "outputs": [],
   "source": [
    "PROOF_FILES = [\n",
    "    r\"C:\\Users\\Everton Souza\\OneDrive\\dev\\projetos\\python\\crawler\\Arquivos\\Print Digital\\09-06-2022\\36652_V14_103077_Juliatto - Linguica Tipo Calabresa 8g - Multivac.pdf\",\n",
    "    r\"C:\\Users\\Everton Souza\\OneDrive\\dev\\projetos\\python\\crawler\\Arquivos\\Print Digital\\09-06-2022\\620415_V2 - Digital.pdf.zip\",\n",
    "    r\"C:\\Users\\Everton Souza\\OneDrive\\dev\\projetos\\python\\crawler\\Arquivos\\Print Digital\\09-06-2022\\717716_V1 GMG.pdf\",\n",
    "    r\"C:\\Users\\Everton Souza\\OneDrive\\dev\\projetos\\python\\crawler\\Arquivos\\Print Digital\\09-06-2022\\717788_V1 Digital.pdf\"\n",
    "]\n",
    "\n",
    "LAYOUT_FILES = [\n",
    "    r\"E:\\Desktop\\Arquivos\\Print Layout\\09-06-2022\\201538_V3.JPG\",\n",
    "    r\"E:\\Desktop\\Arquivos\\Print Layout\\09-06-2022\\507246_V4_Print_Layout.zip\",\n",
    "    r\"E:\\Desktop\\Arquivos\\Print Layout\\09-06-2022\\507246_V4_Print_Layout_153545.pdf\",\n",
    "    r\"E:\\Desktop\\Arquivos\\Print Layout\\09-06-2022\\717788_V1 Original.jpg\"\n",
    "]"
   ]
  },
  {
   "cell_type": "code",
   "execution_count": 2,
   "metadata": {},
   "outputs": [
    {
     "data": {
      "text/plain": [
       "[36652_V14_103077_Juliatto - Linguica Tipo Calabresa 8g - Multivac.pdf,\n",
       " 717716_V1 GMG.pdf,\n",
       " 717788_V1 Digital.pdf]"
      ]
     },
     "execution_count": 2,
     "metadata": {},
     "output_type": "execute_result"
    }
   ],
   "source": [
    "from os import path\n",
    "\n",
    "class File:\n",
    "    path: str\n",
    "\n",
    "    def __init__(self, path) -> None:\n",
    "        self.path = path\n",
    "        self.name = self.get_file_name()\n",
    "        self.extension = self.get_extension()\n",
    "    \n",
    "    def __repr__(self) -> str:\n",
    "        return f\"{self.name}\"\n",
    "    \n",
    "    def get_file_name(self) -> str:\n",
    "        \"\"\"Returns only the file name as a string.\"\"\"\n",
    "        return path.basename(self.path)\n",
    "    \n",
    "    def get_extension(self) -> str:\n",
    "        \"\"\"Returns the file extension as a string.\"\"\"\n",
    "        return path.splitext(self.path)[-1].lower()\n"
   ]
  }
 ],
 "metadata": {
  "interpreter": {
   "hash": "0442cd0bdd6237b21233d2e8ac4e36fd6e45ee85210cb3ecf2874ddd16aeed37"
  },
  "kernelspec": {
   "display_name": "Python 3.9.6 64-bit",
   "language": "python",
   "name": "python3"
  },
  "language_info": {
   "codemirror_mode": {
    "name": "ipython",
    "version": 3
   },
   "file_extension": ".py",
   "mimetype": "text/x-python",
   "name": "python",
   "nbconvert_exporter": "python",
   "pygments_lexer": "ipython3",
   "version": "3.9.6"
  },
  "orig_nbformat": 4
 },
 "nbformat": 4,
 "nbformat_minor": 2
}
