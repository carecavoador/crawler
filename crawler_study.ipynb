{
 "cells": [
  {
   "cell_type": "code",
   "execution_count": null,
   "metadata": {},
   "outputs": [],
   "source": [
    "import os\n",
    "from pathlib import Path\n",
    "from datetime import date\n",
    "from re import search\n",
    "\n",
    "# TODAY = date.today().strftime(\"%d-%m-%Y\")\n",
    "TODAY = \"09-06-2022\"\n",
    "ROOT = Path(r\"C:\\Projetos\\Python\\crawler\\Arquivos\")\n",
    "PROOF_DIR = ROOT.joinpath(\"Print Digital\", TODAY)\n",
    "\n",
    "proof_files = os.listdir(PROOF_DIR)\n",
    "proof_files"
   ]
  },
  {
   "cell_type": "code",
   "execution_count": null,
   "metadata": {},
   "outputs": [],
   "source": [
    "file_one = proof_files[0]\n",
    "\n",
    "\"\"\"\n",
    "Procura pelo padrão de número de OS na string 'file_one' e retorna um objeto\n",
    "Match caso encontre, retorna None se não encontrar.\n",
    "\"\"\"\n",
    "num_os = search(\"^[0-9]{4,}_[vV][0-9]+\", file_one)\n",
    "if num_os:\n",
    "    print(num_os.group())\n"
   ]
  },
  {
   "cell_type": "code",
   "execution_count": null,
   "metadata": {},
   "outputs": [],
   "source": [
    "from PyPDF2 import PdfFileReader\n",
    "\n",
    "arquivo = open(r\"C:\\Projetos\\Python\\crawler\\Arquivos\\OS_643661_7_V2.pdf\", \"rb\")\n",
    "reader = PdfFileReader(arquivo)\n",
    "pagina = reader.getPage(0)\n",
    "texto = pagina.extractText().split(\"\\n\")\n",
    "for line in texto:\n",
    "    if \"Print\" in line:\n",
    "        print(line)\n",
    "texto"
   ]
  },
  {
   "cell_type": "code",
   "execution_count": 1,
   "metadata": {},
   "outputs": [
    {
     "name": "stdout",
     "output_type": "stream",
     "text": [
      "{<Material.LAYOUT: 1>, <Material.PLATES: 5>}\n"
     ]
    }
   ],
   "source": [
    "t = ['Black52-45NXAdv01',\n",
    "    'PANTONE 1795 C--45NXAdv03',\n",
    "    'PANTONE 7584 C52-15NXAdv01',\n",
    "    '1PANTONE 159 C--45NXAdv03',\n",
    "    '',\n",
    "    'Observações:Curvas de pantone para linear',\n",
    "    'Itens para Expedir:',\n",
    "    'DeItem ParaTransportadoraData e HorárioQtd',\n",
    "    'Print LayoutBlumenau Reunidas Blumenau10/06/22Parnaplast 01:001',\n",
    "    '- Comentários:Reunidas Caminhão',\n",
    "    'ClichêsBlumenau Reunidas Blumenau10/06/22Parnaplast 01:001',\n",
    "    '- Comentários:Reunidas Caminhão',\n",
    "    'Observações:',\n",
    "    '- Gravar clichês conforme arquivo novo.',\n",
    "    '- Encaixar na versão anterior para aproveitamento do restante.',\n",
    "    '- Verificar se altera mais alguma coisa e informar.',\n",
    "    'Página 1 de 110/06/2022 17.17.11Emitido por:Everton de Souza']\n",
    "\n",
    "head = 'Itens para Expedir:'\n",
    "foot =  'Observações:'\n",
    "head_index = 0\n",
    "foot_index = 0\n",
    "\n",
    "for line in t:\n",
    "    if line == head:\n",
    "        head_index = t.index(line) + 2\n",
    "    elif line == foot:\n",
    "        foot_index = t.index(line)\n",
    "\n",
    "\n",
    "itens = t[head_index:foot_index]\n",
    "itens = [item for item in itens if not item.startswith(\"- Com\")]\n",
    "\n",
    "\n",
    "\n",
    "from material import Material\n",
    "\n",
    "materiais = []\n",
    "\n",
    "for item in itens:\n",
    "    if item.startswith(\"Print Layout\"):\n",
    "        materiais.append(Material.LAYOUT)\n",
    "    elif item.startswith(\"Clichês\"):\n",
    "        materiais.append(Material.PLATES)\n",
    "\n",
    "print(set(materiais))"
   ]
  }
 ],
 "metadata": {
  "kernelspec": {
   "display_name": "Python 3.10.5 ('venv': venv)",
   "language": "python",
   "name": "python3"
  },
  "language_info": {
   "codemirror_mode": {
    "name": "ipython",
    "version": 3
   },
   "file_extension": ".py",
   "mimetype": "text/x-python",
   "name": "python",
   "nbconvert_exporter": "python",
   "pygments_lexer": "ipython3",
   "version": "3.10.5"
  },
  "orig_nbformat": 4,
  "vscode": {
   "interpreter": {
    "hash": "e1616f986a7b931e652f4fadcc9f29627206be7fb44b3b5b0951b3666663afaa"
   }
  }
 },
 "nbformat": 4,
 "nbformat_minor": 2
}
