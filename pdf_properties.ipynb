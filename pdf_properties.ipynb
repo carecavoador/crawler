{
 "cells": [
  {
   "cell_type": "code",
   "execution_count": 7,
   "metadata": {},
   "outputs": [
    {
     "name": "stdout",
     "output_type": "stream",
     "text": [
      "artbox: RectangleObject([7.338, 513.606, 233.628, 832.842])\n",
      "t (79.83008333333332, Decimal('319.236'))\n",
      "Altura: 112.61936666666665\n",
      "Largura: 79.83008333333332\n"
     ]
    }
   ],
   "source": [
    "from PyPDF2 import PdfReader\n",
    "\n",
    "# Tamanho real: 79,8 mm X 112,6 mm\n",
    "C = (1/72 * 25.4)\n",
    "\n",
    "arquivo = PdfReader(open(r\"C:\\Users\\Everton Souza\\OneDrive\\dev\\projetos\\python\\crawler\\Arquivos\\Print Digital\\09-06-2022\\717788_V1 Digital.pdf\", \"rb\"))\n",
    "p = arquivo.pages[0].artbox\n",
    "\n",
    "print(\"artbox:\", p)\n",
    "# [x0, y0, x1, y1]\n",
    "t = ((float(p[2]-p[0])*C, p[3]-p[1]))\n",
    "print(\"t\", t)\n",
    "\n",
    "\n",
    "print(\"Altura:\",(float(arquivo.pages[0].artbox.height) * C))\n",
    "print(\"Largura:\",(float(arquivo.pages[0].artbox.width) * C))"
   ]
  }
 ],
 "metadata": {
  "kernelspec": {
   "display_name": "Python 3.9.6 ('env': venv)",
   "language": "python",
   "name": "python3"
  },
  "language_info": {
   "codemirror_mode": {
    "name": "ipython",
    "version": 3
   },
   "file_extension": ".py",
   "mimetype": "text/x-python",
   "name": "python",
   "nbconvert_exporter": "python",
   "pygments_lexer": "ipython3",
   "version": "3.9.6"
  },
  "orig_nbformat": 4,
  "vscode": {
   "interpreter": {
    "hash": "7c8fc4ed3efee63a78ac6e49854cacf470c982a3304e93afafd9be0da95fd150"
   }
  }
 },
 "nbformat": 4,
 "nbformat_minor": 2
}
